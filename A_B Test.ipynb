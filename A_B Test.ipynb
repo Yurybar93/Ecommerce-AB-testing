{
 "cells": [
  {
   "cell_type": "code",
   "execution_count": 64,
   "id": "6d379506-f330-4695-b2a4-64b4ec1ec2f7",
   "metadata": {},
   "outputs": [],
   "source": [
    "import pandas as pd\n",
    "import numpy as np\n",
    "import matplotlib.pyplot as plt\n",
    "import seaborn as sns\n",
    "from scipy.stats import norm\n",
    "from statsmodels.stats.proportion import proportions_ztest"
   ]
  },
  {
   "cell_type": "code",
   "execution_count": 41,
   "id": "f3a301a8-cd6a-4a0e-ab12-5e6000dc5f44",
   "metadata": {},
   "outputs": [
    {
     "data": {
      "text/html": [
       "<div>\n",
       "<style scoped>\n",
       "    .dataframe tbody tr th:only-of-type {\n",
       "        vertical-align: middle;\n",
       "    }\n",
       "\n",
       "    .dataframe tbody tr th {\n",
       "        vertical-align: top;\n",
       "    }\n",
       "\n",
       "    .dataframe thead th {\n",
       "        text-align: right;\n",
       "    }\n",
       "</style>\n",
       "<table border=\"1\" class=\"dataframe\">\n",
       "  <thead>\n",
       "    <tr style=\"text-align: right;\">\n",
       "      <th></th>\n",
       "      <th>user_id</th>\n",
       "      <th>timestamp</th>\n",
       "      <th>group</th>\n",
       "      <th>landing_page</th>\n",
       "      <th>converted</th>\n",
       "    </tr>\n",
       "  </thead>\n",
       "  <tbody>\n",
       "    <tr>\n",
       "      <th>0</th>\n",
       "      <td>851104</td>\n",
       "      <td>11:48.6</td>\n",
       "      <td>control</td>\n",
       "      <td>old_page</td>\n",
       "      <td>0</td>\n",
       "    </tr>\n",
       "    <tr>\n",
       "      <th>1</th>\n",
       "      <td>804228</td>\n",
       "      <td>01:45.2</td>\n",
       "      <td>control</td>\n",
       "      <td>old_page</td>\n",
       "      <td>0</td>\n",
       "    </tr>\n",
       "    <tr>\n",
       "      <th>2</th>\n",
       "      <td>661590</td>\n",
       "      <td>55:06.2</td>\n",
       "      <td>treatment</td>\n",
       "      <td>new_page</td>\n",
       "      <td>0</td>\n",
       "    </tr>\n",
       "    <tr>\n",
       "      <th>3</th>\n",
       "      <td>853541</td>\n",
       "      <td>28:03.1</td>\n",
       "      <td>treatment</td>\n",
       "      <td>new_page</td>\n",
       "      <td>0</td>\n",
       "    </tr>\n",
       "    <tr>\n",
       "      <th>4</th>\n",
       "      <td>864975</td>\n",
       "      <td>52:26.2</td>\n",
       "      <td>control</td>\n",
       "      <td>old_page</td>\n",
       "      <td>1</td>\n",
       "    </tr>\n",
       "  </tbody>\n",
       "</table>\n",
       "</div>"
      ],
      "text/plain": [
       "   user_id timestamp      group landing_page  converted\n",
       "0   851104   11:48.6    control     old_page          0\n",
       "1   804228   01:45.2    control     old_page          0\n",
       "2   661590   55:06.2  treatment     new_page          0\n",
       "3   853541   28:03.1  treatment     new_page          0\n",
       "4   864975   52:26.2    control     old_page          1"
      ]
     },
     "execution_count": 41,
     "metadata": {},
     "output_type": "execute_result"
    }
   ],
   "source": [
    "ab_data = pd.read_csv('ab_data.csv')\n",
    "ab_data.head()"
   ]
  },
  {
   "cell_type": "code",
   "execution_count": 3,
   "id": "8d3cbf66-00f2-404d-b3f2-1a161697f57b",
   "metadata": {
    "scrolled": true
   },
   "outputs": [
    {
     "data": {
      "text/html": [
       "<div>\n",
       "<style scoped>\n",
       "    .dataframe tbody tr th:only-of-type {\n",
       "        vertical-align: middle;\n",
       "    }\n",
       "\n",
       "    .dataframe tbody tr th {\n",
       "        vertical-align: top;\n",
       "    }\n",
       "\n",
       "    .dataframe thead th {\n",
       "        text-align: right;\n",
       "    }\n",
       "</style>\n",
       "<table border=\"1\" class=\"dataframe\">\n",
       "  <thead>\n",
       "    <tr style=\"text-align: right;\">\n",
       "      <th></th>\n",
       "      <th>user_id</th>\n",
       "      <th>country</th>\n",
       "    </tr>\n",
       "  </thead>\n",
       "  <tbody>\n",
       "    <tr>\n",
       "      <th>0</th>\n",
       "      <td>834778</td>\n",
       "      <td>UK</td>\n",
       "    </tr>\n",
       "    <tr>\n",
       "      <th>1</th>\n",
       "      <td>928468</td>\n",
       "      <td>US</td>\n",
       "    </tr>\n",
       "    <tr>\n",
       "      <th>2</th>\n",
       "      <td>822059</td>\n",
       "      <td>UK</td>\n",
       "    </tr>\n",
       "    <tr>\n",
       "      <th>3</th>\n",
       "      <td>711597</td>\n",
       "      <td>UK</td>\n",
       "    </tr>\n",
       "    <tr>\n",
       "      <th>4</th>\n",
       "      <td>710616</td>\n",
       "      <td>UK</td>\n",
       "    </tr>\n",
       "  </tbody>\n",
       "</table>\n",
       "</div>"
      ],
      "text/plain": [
       "   user_id country\n",
       "0   834778      UK\n",
       "1   928468      US\n",
       "2   822059      UK\n",
       "3   711597      UK\n",
       "4   710616      UK"
      ]
     },
     "execution_count": 3,
     "metadata": {},
     "output_type": "execute_result"
    }
   ],
   "source": [
    "countries = pd.read_csv('countries.csv')\n",
    "countries.head()"
   ]
  },
  {
   "cell_type": "markdown",
   "id": "4157473f-76ae-4e28-9614-96a538ea02f9",
   "metadata": {},
   "source": [
    "## Vorverarbeitung von Daten"
   ]
  },
  {
   "cell_type": "code",
   "execution_count": 7,
   "id": "cff40097-3712-4591-87a5-9c14daa6b87c",
   "metadata": {},
   "outputs": [
    {
     "name": "stdout",
     "output_type": "stream",
     "text": [
      "<class 'pandas.core.frame.DataFrame'>\n",
      "RangeIndex: 294480 entries, 0 to 294479\n",
      "Data columns (total 5 columns):\n",
      " #   Column        Non-Null Count   Dtype \n",
      "---  ------        --------------   ----- \n",
      " 0   user_id       294480 non-null  int64 \n",
      " 1   timestamp     294480 non-null  object\n",
      " 2   group         294480 non-null  object\n",
      " 3   landing_page  294480 non-null  object\n",
      " 4   converted     294480 non-null  int64 \n",
      "dtypes: int64(2), object(3)\n",
      "memory usage: 11.2+ MB\n"
     ]
    }
   ],
   "source": [
    "ab_data.info()"
   ]
  },
  {
   "cell_type": "code",
   "execution_count": 12,
   "id": "3e57dfde-cdee-4255-93f6-b098504981f4",
   "metadata": {},
   "outputs": [
    {
     "data": {
      "text/plain": [
       "user_id         290585\n",
       "timestamp        35993\n",
       "group                2\n",
       "landing_page         2\n",
       "converted            2\n",
       "dtype: int64"
      ]
     },
     "execution_count": 12,
     "metadata": {},
     "output_type": "execute_result"
    }
   ],
   "source": [
    "ab_data.apply(lambda x: x.nunique())"
   ]
  },
  {
   "cell_type": "code",
   "execution_count": 73,
   "id": "a65f90f9-5d03-4dca-a0fc-7d3c8d12cc57",
   "metadata": {},
   "outputs": [],
   "source": [
    "# Datentypen konvertieren\n",
    "ab_data['group'] = ab_data['group'].astype('category')\n",
    "ab_data['landing_page'] = ab_data['landing_page'].astype('category')"
   ]
  },
  {
   "cell_type": "code",
   "execution_count": 43,
   "id": "97387596-aa36-49cd-bf50-9b88ecc4917d",
   "metadata": {},
   "outputs": [
    {
     "data": {
      "text/plain": [
       "user_id         0\n",
       "timestamp       0\n",
       "group           0\n",
       "landing_page    0\n",
       "converted       0\n",
       "dtype: int64"
      ]
     },
     "execution_count": 43,
     "metadata": {},
     "output_type": "execute_result"
    }
   ],
   "source": [
    "# Überprüfung auf fehlende Werte\n",
    "ab_data.isnull().sum()"
   ]
  },
  {
   "cell_type": "code",
   "execution_count": 74,
   "id": "696e58cb-4162-4bfb-a3f8-33611856cbda",
   "metadata": {},
   "outputs": [],
   "source": [
    "# Duplikate entfernen\n",
    "ab_data.drop_duplicates(subset=['user_id'], keep=False, inplace=True)"
   ]
  },
  {
   "cell_type": "code",
   "execution_count": 34,
   "id": "1aeb1ba6-7fd3-4a75-b765-86d2e249b4ec",
   "metadata": {},
   "outputs": [
    {
     "name": "stdout",
     "output_type": "stream",
     "text": [
      "<class 'pandas.core.frame.DataFrame'>\n",
      "RangeIndex: 290586 entries, 0 to 290585\n",
      "Data columns (total 2 columns):\n",
      " #   Column   Non-Null Count   Dtype \n",
      "---  ------   --------------   ----- \n",
      " 0   user_id  290586 non-null  int64 \n",
      " 1   country  290586 non-null  object\n",
      "dtypes: int64(1), object(1)\n",
      "memory usage: 4.4+ MB\n"
     ]
    }
   ],
   "source": [
    "countries.info()"
   ]
  },
  {
   "cell_type": "code",
   "execution_count": 36,
   "id": "5f9d0cfd-739f-4cb0-afcb-9295273306c5",
   "metadata": {},
   "outputs": [
    {
     "data": {
      "text/plain": [
       "user_id    290585\n",
       "country         3\n",
       "dtype: int64"
      ]
     },
     "execution_count": 36,
     "metadata": {},
     "output_type": "execute_result"
    }
   ],
   "source": [
    "countries.apply(lambda x: x.nunique())"
   ]
  },
  {
   "cell_type": "code",
   "execution_count": 75,
   "id": "f9873635-104d-4a1e-bfe0-f290a53f1512",
   "metadata": {},
   "outputs": [],
   "source": [
    "# Duplikate entfernen\n",
    "countries.drop_duplicates(subset=['user_id'], keep=False, inplace=True)"
   ]
  },
  {
   "cell_type": "markdown",
   "id": "69faff3c-bf59-42f2-8001-b4d869bd2325",
   "metadata": {},
   "source": [
    "## Группировка данных по group и подсчёт конверсий"
   ]
  },
  {
   "cell_type": "code",
   "execution_count": 76,
   "id": "ab213e0d-ddc8-4709-adef-572d83274113",
   "metadata": {},
   "outputs": [],
   "source": [
    "# Datentypen konvertieren\n",
    "countries['country'] = countries['country'].astype('category')"
   ]
  },
  {
   "cell_type": "code",
   "execution_count": 77,
   "id": "df4075d9-22ae-4481-a8af-48f2a768b4c6",
   "metadata": {},
   "outputs": [
    {
     "name": "stdout",
     "output_type": "stream",
     "text": [
      "Число несоответствий: 0\n"
     ]
    }
   ],
   "source": [
    "# Überprüfung der Verteilung von Gruppen und Seiten\n",
    "inconsistencies = ab_data[\n",
    "    ((ab_data['group'] == 'treatment') & (ab_data['landing_page'] != 'new_page')) |\n",
    "    ((ab_data['group'] == 'control') & (ab_data['landing_page'] != 'old_page'))\n",
    "]\n",
    "\n",
    "print(\"Число несоответствий:\", len(inconsistencies))"
   ]
  },
  {
   "cell_type": "code",
   "execution_count": 78,
   "id": "16b1b2fe-fb3b-4418-bb25-2b7e9dececb6",
   "metadata": {},
   "outputs": [
    {
     "data": {
      "text/html": [
       "<div>\n",
       "<style scoped>\n",
       "    .dataframe tbody tr th:only-of-type {\n",
       "        vertical-align: middle;\n",
       "    }\n",
       "\n",
       "    .dataframe tbody tr th {\n",
       "        vertical-align: top;\n",
       "    }\n",
       "\n",
       "    .dataframe thead th {\n",
       "        text-align: right;\n",
       "    }\n",
       "</style>\n",
       "<table border=\"1\" class=\"dataframe\">\n",
       "  <thead>\n",
       "    <tr style=\"text-align: right;\">\n",
       "      <th></th>\n",
       "      <th>anzahl_konvertiert</th>\n",
       "      <th>gesamtbenutzer</th>\n",
       "      <th>konversionsrate</th>\n",
       "    </tr>\n",
       "    <tr>\n",
       "      <th>group</th>\n",
       "      <th></th>\n",
       "      <th></th>\n",
       "      <th></th>\n",
       "    </tr>\n",
       "  </thead>\n",
       "  <tbody>\n",
       "    <tr>\n",
       "      <th>control</th>\n",
       "      <td>17220</td>\n",
       "      <td>143293</td>\n",
       "      <td>0.120173</td>\n",
       "    </tr>\n",
       "    <tr>\n",
       "      <th>treatment</th>\n",
       "      <td>17025</td>\n",
       "      <td>143397</td>\n",
       "      <td>0.118726</td>\n",
       "    </tr>\n",
       "  </tbody>\n",
       "</table>\n",
       "</div>"
      ],
      "text/plain": [
       "           anzahl_konvertiert  gesamtbenutzer  konversionsrate\n",
       "group                                                         \n",
       "control                 17220          143293         0.120173\n",
       "treatment               17025          143397         0.118726"
      ]
     },
     "execution_count": 78,
     "metadata": {},
     "output_type": "execute_result"
    }
   ],
   "source": [
    "# Gruppierung der Daten nach \"group\" und Zählen der Konversionen\n",
    "conversion_summary = ab_data.groupby('group')['converted'].agg(['sum', 'count', 'mean'])\n",
    "\n",
    "# Spalten zur besseren Lesbarkeit umbenennen\n",
    "conversion_summary.columns = ['anzahl_konvertiert', 'gesamtbenutzer', 'konversionsrate']\n",
    "\n",
    "conversion_summary"
   ]
  },
  {
   "cell_type": "markdown",
   "id": "bc24c805-f503-4bb7-a7f9-bb105da9d43e",
   "metadata": {},
   "source": [
    "## Visualisierung der Verteilung der Zielvariablen für jede Gruppe\n"
   ]
  },
  {
   "cell_type": "code",
   "execution_count": 79,
   "id": "d9dcad6d-e87f-4862-b548-8e0bc46991ff",
   "metadata": {},
   "outputs": [
    {
     "data": {
      "image/png": "[encoded data removed]",
      "text/plain": [
       "<Figure size 640x480 with 1 Axes>"
      ]
     },
     "metadata": {},
     "output_type": "display_data"
    }
   ],
   "source": [
    "sns.histplot(data=ab_data, x='converted', hue='group', multiple='dodge', shrink=0.8, bins=2)\n",
    "\n",
    "plt.title('Verteilung der Konversionen nach Gruppen')\n",
    "plt.xlabel('Konvertiert (0 - Nein, 1 - Ja)')\n",
    "plt.ylabel('Anzahl der Benutzer')\n",
    "plt.legend(title='Gruppe', labels=['Kontrollgruppe', 'Behandlungsgruppe'])\n",
    "plt.show()"
   ]
  },
  {
   "cell_type": "code",
   "execution_count": 80,
   "id": "4a1598b9-3991-4ed0-9402-b90744c052de",
   "metadata": {},
   "outputs": [
    {
     "data": {
      "image/png": "[encoded data removed]",
      "text/plain": [
       "<Figure size 640x480 with 1 Axes>"
      ]
     },
     "metadata": {},
     "output_type": "display_data"
    }
   ],
   "source": [
    "conversion_rates = ab_data.groupby('group')['converted'].mean()\n",
    "\n",
    "conversion_rates.plot(kind='bar', color=['blue', 'orange'])\n",
    "\n",
    "plt.title('Konversionsrate nach Gruppen')\n",
    "plt.ylabel('Konversionsrate')\n",
    "plt.xticks(rotation=0)\n",
    "plt.show()"
   ]
  },
  {
   "cell_type": "markdown",
   "id": "b11c8a48-5382-453e-842d-164c2e412c89",
   "metadata": {},
   "source": [
    "Auf den Visualisierungen ist kein Unterschied zwischen den Gruppen erkennbar. Dennoch überprüfen wir dies mit einem Z-Test.\n"
   ]
  },
  {
   "cell_type": "markdown",
   "id": "774b1dbe-1839-4e72-9ddc-25253eaa49a6",
   "metadata": {},
   "source": [
    "## Z-тест для пропорций"
   ]
  },
  {
   "cell_type": "code",
   "execution_count": 81,
   "id": "18ec2657-f823-4b6f-8eca-c81fb9112963",
   "metadata": {},
   "outputs": [
    {
     "name": "stdout",
     "output_type": "stream",
     "text": [
      "Z-Statistik: -1.1944850812796501\n",
      "p-Wert: 0.23228827305833621\n"
     ]
    }
   ],
   "source": [
    "# Anzahl der Konversionen und Gesamtzahl der Benutzer berechnen\n",
    "conversions_new = ab_data[ab_data['group'] == 'treatment']['converted'].sum()\n",
    "conversions_old = ab_data[ab_data['group'] == 'control']['converted'].sum()\n",
    "\n",
    "n_new = len(ab_data[ab_data['group'] == 'treatment'])\n",
    "n_old = len(ab_data[ab_data['group'] == 'control'])\n",
    "\n",
    "# Konversionsraten\n",
    "P_new = conversions_new / n_new\n",
    "P_old = conversions_old / n_old\n",
    "\n",
    "# Gesamte Konversionsrate (P_pool)\n",
    "P_pool = (conversions_new + conversions_old) / (n_new + n_old)\n",
    "\n",
    "# Standardfehler (SE)\n",
    "SE = np.sqrt(P_pool * (1 - P_pool) * (1/n_new + 1/n_old))\n",
    "\n",
    "# Z-Statistik\n",
    "Z = (P_new - P_old) / SE\n",
    "\n",
    "# p-Wert für den zweiseitigen Test\n",
    "p_value = 2 * (1 - norm.cdf(abs(Z)))\n",
    "\n",
    "# Ausgabe der Ergebnisse\n",
    "print(f'Z-Statistik: {Z}')\n",
    "print(f'p-Wert: {p_value}')"
   ]
  },
  {
   "cell_type": "markdown",
   "id": "b56a1179-1460-4372-8fb2-f4f79bac321a",
   "metadata": {},
   "source": [
    "p-value (0.2323) ist größer als das übliche Signifikanzniveau von 𝛼=0.05. Das bedeutet, dass es keine ausreichenden Beweise gibt, um die H0 abzulehnen. Die H0 besagt, dass es keinen Unterschied in den Konversionsraten zwischen der Kontrollgruppe (alte Seite) und der Testgruppe (neue Seite) gibt.\n"
   ]
  },
  {
   "cell_type": "markdown",
   "id": "9338bb42-1f56-4988-b7a0-45f883f9cd78",
   "metadata": {},
   "source": [
    "## Überprüfung des Einflusses externer Faktoren (Länder)\n"
   ]
  },
  {
   "cell_type": "code",
   "execution_count": 82,
   "id": "241c0acc-7405-4802-a270-3e61002b58fb",
   "metadata": {},
   "outputs": [
    {
     "data": {
      "text/html": [
       "<div>\n",
       "<style scoped>\n",
       "    .dataframe tbody tr th:only-of-type {\n",
       "        vertical-align: middle;\n",
       "    }\n",
       "\n",
       "    .dataframe tbody tr th {\n",
       "        vertical-align: top;\n",
       "    }\n",
       "\n",
       "    .dataframe thead th {\n",
       "        text-align: right;\n",
       "    }\n",
       "</style>\n",
       "<table border=\"1\" class=\"dataframe\">\n",
       "  <thead>\n",
       "    <tr style=\"text-align: right;\">\n",
       "      <th></th>\n",
       "      <th>user_id</th>\n",
       "      <th>timestamp</th>\n",
       "      <th>group</th>\n",
       "      <th>landing_page</th>\n",
       "      <th>converted</th>\n",
       "      <th>country</th>\n",
       "    </tr>\n",
       "  </thead>\n",
       "  <tbody>\n",
       "    <tr>\n",
       "      <th>0</th>\n",
       "      <td>851104</td>\n",
       "      <td>11:48.6</td>\n",
       "      <td>control</td>\n",
       "      <td>old_page</td>\n",
       "      <td>0</td>\n",
       "      <td>US</td>\n",
       "    </tr>\n",
       "    <tr>\n",
       "      <th>1</th>\n",
       "      <td>804228</td>\n",
       "      <td>01:45.2</td>\n",
       "      <td>control</td>\n",
       "      <td>old_page</td>\n",
       "      <td>0</td>\n",
       "      <td>US</td>\n",
       "    </tr>\n",
       "    <tr>\n",
       "      <th>2</th>\n",
       "      <td>661590</td>\n",
       "      <td>55:06.2</td>\n",
       "      <td>treatment</td>\n",
       "      <td>new_page</td>\n",
       "      <td>0</td>\n",
       "      <td>US</td>\n",
       "    </tr>\n",
       "    <tr>\n",
       "      <th>3</th>\n",
       "      <td>853541</td>\n",
       "      <td>28:03.1</td>\n",
       "      <td>treatment</td>\n",
       "      <td>new_page</td>\n",
       "      <td>0</td>\n",
       "      <td>US</td>\n",
       "    </tr>\n",
       "    <tr>\n",
       "      <th>4</th>\n",
       "      <td>864975</td>\n",
       "      <td>52:26.2</td>\n",
       "      <td>control</td>\n",
       "      <td>old_page</td>\n",
       "      <td>1</td>\n",
       "      <td>US</td>\n",
       "    </tr>\n",
       "  </tbody>\n",
       "</table>\n",
       "</div>"
      ],
      "text/plain": [
       "   user_id timestamp      group landing_page  converted country\n",
       "0   851104   11:48.6    control     old_page          0      US\n",
       "1   804228   01:45.2    control     old_page          0      US\n",
       "2   661590   55:06.2  treatment     new_page          0      US\n",
       "3   853541   28:03.1  treatment     new_page          0      US\n",
       "4   864975   52:26.2    control     old_page          1      US"
      ]
     },
     "execution_count": 82,
     "metadata": {},
     "output_type": "execute_result"
    }
   ],
   "source": [
    "# Kombinieren der Länderdaten mit dem Hauptdatensatz\n",
    "df_countries = ab_data.merge(countries, on='user_id', how='left')\n",
    "df_countries.head()"
   ]
  },
  {
   "cell_type": "code",
   "execution_count": 83,
   "id": "4dcc90e2-e947-4fac-b0dc-b8dd3e451bc7",
   "metadata": {},
   "outputs": [
    {
     "data": {
      "text/html": [
       "<div>\n",
       "<style scoped>\n",
       "    .dataframe tbody tr th:only-of-type {\n",
       "        vertical-align: middle;\n",
       "    }\n",
       "\n",
       "    .dataframe tbody tr th {\n",
       "        vertical-align: top;\n",
       "    }\n",
       "\n",
       "    .dataframe thead th {\n",
       "        text-align: right;\n",
       "    }\n",
       "</style>\n",
       "<table border=\"1\" class=\"dataframe\">\n",
       "  <thead>\n",
       "    <tr style=\"text-align: right;\">\n",
       "      <th></th>\n",
       "      <th>country</th>\n",
       "      <th>group</th>\n",
       "      <th>converted</th>\n",
       "    </tr>\n",
       "  </thead>\n",
       "  <tbody>\n",
       "    <tr>\n",
       "      <th>0</th>\n",
       "      <td>CA</td>\n",
       "      <td>control</td>\n",
       "      <td>0.118974</td>\n",
       "    </tr>\n",
       "    <tr>\n",
       "      <th>1</th>\n",
       "      <td>CA</td>\n",
       "      <td>treatment</td>\n",
       "      <td>0.112360</td>\n",
       "    </tr>\n",
       "    <tr>\n",
       "      <th>2</th>\n",
       "      <td>UK</td>\n",
       "      <td>control</td>\n",
       "      <td>0.119695</td>\n",
       "    </tr>\n",
       "    <tr>\n",
       "      <th>3</th>\n",
       "      <td>UK</td>\n",
       "      <td>treatment</td>\n",
       "      <td>0.121162</td>\n",
       "    </tr>\n",
       "    <tr>\n",
       "      <th>4</th>\n",
       "      <td>US</td>\n",
       "      <td>control</td>\n",
       "      <td>0.120429</td>\n",
       "    </tr>\n",
       "  </tbody>\n",
       "</table>\n",
       "</div>"
      ],
      "text/plain": [
       "  country      group  converted\n",
       "0      CA    control   0.118974\n",
       "1      CA  treatment   0.112360\n",
       "2      UK    control   0.119695\n",
       "3      UK  treatment   0.121162\n",
       "4      US    control   0.120429"
      ]
     },
     "execution_count": 83,
     "metadata": {},
     "output_type": "execute_result"
    }
   ],
   "source": [
    "# Verteilung der Konversionen nach Ländern und Gruppen\n",
    "country_conversion = df_countries.groupby(['country', 'group'])['converted'].mean().reset_index()\n",
    "country_conversion.head()"
   ]
  },
  {
   "cell_type": "markdown",
   "id": "e1d43a7a-bc5a-46fb-95da-4361705cc9dd",
   "metadata": {},
   "source": [
    "Visualisierung nach Ländern"
   ]
  },
  {
   "cell_type": "code",
   "execution_count": 84,
   "id": "a1732c59-b700-427a-a86d-6eb44bcf7430",
   "metadata": {},
   "outputs": [
    {
     "data": {
      "image/png": "[encoded data removed]",
      "text/plain": [
       "<Figure size 640x480 with 1 Axes>"
      ]
     },
     "metadata": {},
     "output_type": "display_data"
    }
   ],
   "source": [
    "sns.barplot(data=country_conversion, x='country', y='converted', hue='group')\n",
    "plt.title('Verteilung der Konversionen nach Ländern und Gruppen')\n",
    "plt.ylabel('Durchschnittliche Konversion')\n",
    "plt.xlabel('Land')\n",
    "plt.show()"
   ]
  },
  {
   "cell_type": "code",
   "execution_count": 86,
   "id": "2611160e-04df-4ce3-808c-11f0825db050",
   "metadata": {},
   "outputs": [
    {
     "name": "stdout",
     "output_type": "stream",
     "text": [
      "Land: US, Z-Statistik: 1.46, p-value: 0.1448\n",
      "Land: CA, Z-Statistik: 1.24, p-value: 0.2162\n",
      "Land: UK, Z-Statistik: -0.60, p-value: 0.5466\n"
     ]
    }
   ],
   "source": [
    "# Funktion zur Durchführung des Z-Tests für jedes Land\n",
    "results_by_country = []\n",
    "\n",
    "for country in df_countries['country'].unique():\n",
    "    country_data = df_countries[df_countries['country'] == country]\n",
    "    \n",
    "    conversions = country_data.groupby('group')['converted'].sum()\n",
    "    n_users = country_data.groupby('group')['converted'].count()\n",
    "    \n",
    "    # Überprüfen, ob genügend Daten für die Analyse vorhanden sind\n",
    "    if n_users.min() > 10:  \n",
    "        z_stat, p_value = proportions_ztest(conversions, n_users)\n",
    "        results_by_country.append((country, z_stat, p_value))\n",
    "for country, z_stat, p_value in results_by_country:\n",
    "    print(f'Land: {country}, Z-Statistik: {z_stat:.2f}, p-value: {p_value:.4f}')"
   ]
  },
  {
   "cell_type": "markdown",
   "id": "38c819b4-55d5-44ae-8976-193b507fdb2c",
   "metadata": {},
   "source": [
    "In allen drei Ländern ist der p-value größer als das übliche Signifikanzniveau von 0.05. Das bedeutet, dass der Unterschied in der Konversion zwischen der Treatment-Gruppe (neue Seite) und der Control-Gruppe (alte Seite) für jedes Land statistisch nicht signifikant ist. Da in keinem der Länder die neue Seite eine statistisch signifikante Verbesserung gezeigt hat, ist es besser, die alte Seite beizubehalten."
   ]
  }
 ],
 "metadata": {
  "kernelspec": {
   "display_name": "Python 3 (ipykernel)",
   "language": "python",
   "name": "python3"
  },
  "language_info": {
   "codemirror_mode": {
    "name": "ipython",
    "version": 3
   },
   "file_extension": ".py",
   "mimetype": "text/x-python",
   "name": "python",
   "nbconvert_exporter": "python",
   "pygments_lexer": "ipython3",
   "version": "3.12.1"
  }
 },
 "nbformat": 4,
 "nbformat_minor": 5
}
